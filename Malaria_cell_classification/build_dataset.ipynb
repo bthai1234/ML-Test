{
 "cells": [
  {
   "cell_type": "code",
   "execution_count": 1,
   "metadata": {},
   "outputs": [],
   "source": [
    "from random import random\n",
    "from config import config\n",
    "from imutils import paths\n",
    "import random\n",
    "import shutil\n",
    "import os\n"
   ]
  },
  {
   "cell_type": "code",
   "execution_count": 4,
   "metadata": {},
   "outputs": [
    {
     "name": "stdout",
     "output_type": "stream",
     "text": [
      "[INFO] building 'training' split\n",
      "[INFO] 'creating malaria/training' directory\n",
      "[INFO] 'creating malaria/training/Uninfected' directory\n",
      "[INFO] 'creating malaria/training/Parasitized' directory\n",
      "[INFO] building 'validation' split\n",
      "[INFO] 'creating malaria/validation' directory\n",
      "[INFO] 'creating malaria/validation/Uninfected' directory\n",
      "[INFO] 'creating malaria/validation/Parasitized' directory\n",
      "[INFO] building 'testing' split\n",
      "[INFO] 'creating malaria/testing' directory\n",
      "[INFO] 'creating malaria/testing/Uninfected' directory\n",
      "[INFO] 'creating malaria/testing/Parasitized' directory\n",
      "\n"
     ]
    }
   ],
   "source": [
    "# grab path to original data set and shuffle\n",
    "imagePaths = list(paths.list_images(config.ORIG_INPUT_DATASET))\n",
    "random.seed(42)\n",
    "random.shuffle(imagePaths)\n",
    "\n",
    "# calculate training and testing split index and split into seprate lists \n",
    "trainSplit = int(len(imagePaths) * config.TRAIN_SPLIT)\n",
    "trainPaths = imagePaths[:trainSplit]\n",
    "testPaths = imagePaths[trainSplit:]\n",
    "\n",
    "# spliting remaing training set for validation\n",
    "valSplit = int(len(trainPaths) * config.VAL_SPLIT)\n",
    "valPaths = trainPaths[:valSplit]\n",
    "trainPaths = trainPaths[valSplit:]\n",
    "\n",
    "# define paths for our splits\n",
    "datasets = [\n",
    "    (\"training\", trainPaths, config.TRAIN_PATH),\n",
    "    (\"validation\", valPaths, config.VAL_PATH),\n",
    "    (\"testing\", testPaths, config.TEST_PATH)\n",
    "]\n",
    "\n",
    "# loop over dataset and copy files to the split directorys\n",
    "for (dType, imagePaths, splitPath) in datasets:\n",
    "    # print which data split it creating currently\n",
    "    print(\"[INFO] building '{}' split\".format(dType))\n",
    "\n",
    "    # if the output base output directory does not exist, create it\n",
    "    if not os.path.exists(splitPath):\n",
    "        print(\"[INFO] 'creating {}' directory\".format(splitPath))\n",
    "        os.makedirs(splitPath)\n",
    "    \n",
    "    # loop over each input image path and copy it into a their respective tarin, val ,or test folder\n",
    "    for inputPath in imagePaths:\n",
    "        # exract the filename of the imput image along with its correspinding class label\n",
    "        filename = inputPath.split(os.path.sep)[-1]\n",
    "        label = inputPath.split(os.path.sep)[-2]\n",
    "\n",
    "        # build the path to the label directory \n",
    "        labelPath = os.path.sep.join([splitPath, label])\n",
    "\n",
    "        # if the label output directory does not exist, create it\n",
    "        if not os.path.exists(labelPath):\n",
    "            print(\"[INFO] 'creating {}' directory\".format(labelPath))\n",
    "            os.makedirs(labelPath)\n",
    "\n",
    "        # construct the path to the destination image and then copy\n",
    "        # the image itself\n",
    "        p = os.path.sep.join([labelPath, filename])\n",
    "        shutil.copy2(inputPath, p)\n"
   ]
  },
  {
   "cell_type": "code",
   "execution_count": null,
   "metadata": {},
   "outputs": [],
   "source": []
  }
 ],
 "metadata": {
  "kernelspec": {
   "display_name": "tenserflow_2.9_kernel",
   "language": "python",
   "name": "tensorflow_2.9"
  },
  "language_info": {
   "codemirror_mode": {
    "name": "ipython",
    "version": 3
   },
   "file_extension": ".py",
   "mimetype": "text/x-python",
   "name": "python",
   "nbconvert_exporter": "python",
   "pygments_lexer": "ipython3",
   "version": "3.9.7"
  },
  "orig_nbformat": 4
 },
 "nbformat": 4,
 "nbformat_minor": 2
}
